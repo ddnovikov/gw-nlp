{
 "cells": [
  {
   "cell_type": "code",
   "execution_count": 1,
   "metadata": {},
   "outputs": [],
   "source": [
    "import collections\n",
    "import itertools\n",
    "import logging\n",
    "import math\n",
    "import os\n",
    "import shelve\n",
    "import sys\n",
    "\n",
    "import matplotlib.pyplot as plt\n",
    "import numpy as np\n",
    "import pandas as pd\n",
    "\n",
    "from multiprocessing import Pool\n",
    "\n",
    "from gensim import corpora, models\n",
    "from gensim.models import KeyedVectors\n",
    "from gensim.models import TfidfModel\n",
    "from gensim.models.doc2vec import Doc2Vec\n",
    "from gensim.models.doc2vec import TaggedDocument\n",
    "from sklearn.cluster import KMeans\n",
    "from sklearn.decomposition import PCA\n",
    "from sklearn.manifold import TSNE\n",
    "from sklearn import metrics\n",
    "\n",
    "from nltools.exceptions import WrongExtensionError\n",
    "from nltools.streams.io_.basic import read_csv\n",
    "from nltools.streams.preprocessing.basic import preprocess\n",
    "from nltools.streams.preprocessing.preloading import stop_words\n",
    "from nltools.streams.preprocessing import w2v\n",
    "\n",
    "logging.basicConfig(format='%(asctime)s : %(levelname)s : %(message)s', level=logging.INFO)"
   ]
  },
  {
   "cell_type": "markdown",
   "metadata": {},
   "source": [
    "# Предобработка данных"
   ]
  },
  {
   "cell_type": "code",
   "execution_count": 3,
   "metadata": {},
   "outputs": [],
   "source": [
    "def w2v_preprocess(input_file):\n",
    "    cur_document = [preprocess(line, stop_words=stop_words, min_len=0) for *_, line in read_csv(f'tg_data/{input_file}', msg_brd=None)]            \n",
    "    return list(itertools.chain(*cur_document)), [input_file]\n",
    "\n",
    "\n",
    "def w2v_preprocess_multi(input_files, \n",
    "                         batch_size=5, \n",
    "                         workers=5,\n",
    "                         db_name='temp.db',\n",
    "                         res_var_name='train_corpus'):\n",
    "    for i in range(0, len(input_files), batch_size):\n",
    "        print(f'\\rPreprocessing files {i}-{i+batch_size}.', end='')\n",
    "        pool = Pool(processes=workers)\n",
    "        batch = list(pool.map(w2v_preprocess, input_files[i:i+batch_size]))\n",
    "        pool.close()\n",
    "        pool.join()\n",
    "\n",
    "        with shelve.open(db_name) as db:\n",
    "            try:\n",
    "                temp = db[res_var_name]\n",
    "            except KeyError:\n",
    "                db[res_var_name] = batch\n",
    "                continue\n",
    "\n",
    "            temp += batch\n",
    "            db[res_var_name] = temp\n",
    "            del temp, batch"
   ]
  },
  {
   "cell_type": "code",
   "execution_count": 4,
   "metadata": {
    "scrolled": true
   },
   "outputs": [
    {
     "name": "stdout",
     "output_type": "stream",
     "text": [
      "Preprocessing files 160-165."
     ]
    }
   ],
   "source": [
    "w2v_preprocess_multi(list(os.listdir('tg_data/')), db_name='temp.db', res_var_name='train_corpus')"
   ]
  },
  {
   "cell_type": "markdown",
   "metadata": {},
   "source": [
    "# Чтение предобработанных данных"
   ]
  },
  {
   "cell_type": "code",
   "execution_count": 2,
   "metadata": {},
   "outputs": [],
   "source": [
    "class ShelveReader:\n",
    "    def __init__(self, filenames, mode='td'):\n",
    "        self.filenames = filenames\n",
    "        self.mode = mode\n",
    "        \n",
    "    def __iter__(self):\n",
    "        for fn in self.filenames:\n",
    "            with shelve.open(fn) as db:\n",
    "                for doc, label in db[list(db.keys())[0]]:\n",
    "                    if self.mode == 'td':\n",
    "                        yield TaggedDocument(doc, label)  \n",
    "                    elif self.mode == 'asis':\n",
    "                        yield doc"
   ]
  },
  {
   "cell_type": "code",
   "execution_count": 3,
   "metadata": {},
   "outputs": [],
   "source": [
    "train_corpus = [doc for doc in ShelveReader(['temp.db'])]"
   ]
  },
  {
   "cell_type": "markdown",
   "metadata": {},
   "source": [
    "# Doc2Vec\n",
    "## Создание и обучение модели"
   ]
  },
  {
   "cell_type": "code",
   "execution_count": 19,
   "metadata": {
    "scrolled": true
   },
   "outputs": [
    {
     "name": "stderr",
     "output_type": "stream",
     "text": [
      "2018-04-15 18:02:20,024 : INFO : collecting all words and their counts\n",
      "2018-04-15 18:02:20,024 : INFO : PROGRESS: at example #0, processed 0 words (0/s), 0 word types, 0 tags\n",
      "2018-04-15 18:02:27,437 : INFO : collected 1288322 word types and 162 unique tags from a corpus of 162 examples and 23058171 words\n",
      "2018-04-15 18:02:27,438 : INFO : Loading a fresh vocabulary\n",
      "2018-04-15 18:02:31,458 : INFO : min_count=2 retains 499779 unique words (38% of original 1288322, drops 788543)\n",
      "2018-04-15 18:02:31,459 : INFO : min_count=2 leaves 22269628 word corpus (96% of original 23058171, drops 788543)\n",
      "2018-04-15 18:02:32,770 : INFO : deleting the raw counts dictionary of 1288322 items\n",
      "2018-04-15 18:02:32,802 : INFO : sample=0.001 downsamples 3 most-common words\n",
      "2018-04-15 18:02:32,802 : INFO : downsampling leaves estimated 21923876 word corpus (98.4% of prior 22269628)\n",
      "2018-04-15 18:02:34,436 : INFO : estimated required memory for 499779 words and 100 dimensions: 649809900 bytes\n",
      "2018-04-15 18:02:34,437 : INFO : resetting layer weights\n"
     ]
    },
    {
     "name": "stdout",
     "output_type": "stream",
     "text": [
      "CPU times: user 19.3 s, sys: 188 ms, total: 19.5 s\n",
      "Wall time: 19.5 s\n"
     ]
    }
   ],
   "source": [
    "%%time\n",
    "model = Doc2Vec(vector_size=100, dbow_words=1, min_count=2, window=10, sample=1e-3, workers=3, seed=42)\n",
    "model.build_vocab(train_corpus)"
   ]
  },
  {
   "cell_type": "code",
   "execution_count": 20,
   "metadata": {
    "scrolled": true
   },
   "outputs": [
    {
     "name": "stderr",
     "output_type": "stream",
     "text": [
      "2018-04-15 18:02:39,374 : INFO : training model with 3 workers on 499779 vocabulary and 100 features, using sg=0 hs=0 sample=0.001 negative=5 window=10\n",
      "2018-04-15 18:02:40,383 : INFO : EPOCH 1 - PROGRESS: at 28.40% examples, 455183 words/s, in_qsize 6, out_qsize 0\n",
      "2018-04-15 18:02:41,400 : INFO : EPOCH 1 - PROGRESS: at 62.35% examples, 497244 words/s, in_qsize 6, out_qsize 0\n",
      "2018-04-15 18:02:42,432 : INFO : EPOCH 1 - PROGRESS: at 95.68% examples, 503878 words/s, in_qsize 4, out_qsize 2\n",
      "2018-04-15 18:02:42,514 : INFO : worker thread finished; awaiting finish of 2 more threads\n",
      "2018-04-15 18:02:42,531 : INFO : worker thread finished; awaiting finish of 1 more threads\n",
      "2018-04-15 18:02:42,568 : INFO : worker thread finished; awaiting finish of 0 more threads\n",
      "2018-04-15 18:02:42,568 : INFO : EPOCH - 1 : training on 23058171 raw words (1609835 effective words) took 3.2s, 504301 effective words/s\n",
      "2018-04-15 18:02:43,585 : INFO : EPOCH 2 - PROGRESS: at 32.10% examples, 512689 words/s, in_qsize 6, out_qsize 1\n",
      "2018-04-15 18:02:44,617 : INFO : EPOCH 2 - PROGRESS: at 66.05% examples, 522006 words/s, in_qsize 6, out_qsize 0\n",
      "2018-04-15 18:02:45,577 : INFO : worker thread finished; awaiting finish of 2 more threads\n",
      "2018-04-15 18:02:45,578 : INFO : worker thread finished; awaiting finish of 1 more threads\n",
      "2018-04-15 18:02:45,628 : INFO : EPOCH 2 - PROGRESS: at 100.00% examples, 527039 words/s, in_qsize 0, out_qsize 1\n",
      "2018-04-15 18:02:45,629 : INFO : worker thread finished; awaiting finish of 0 more threads\n",
      "2018-04-15 18:02:45,630 : INFO : EPOCH - 2 : training on 23058171 raw words (1609815 effective words) took 3.1s, 526798 effective words/s\n",
      "2018-04-15 18:02:46,650 : INFO : EPOCH 3 - PROGRESS: at 32.10% examples, 509280 words/s, in_qsize 6, out_qsize 0\n",
      "2018-04-15 18:02:47,674 : INFO : EPOCH 3 - PROGRESS: at 65.43% examples, 517463 words/s, in_qsize 6, out_qsize 1\n",
      "2018-04-15 18:02:48,671 : INFO : worker thread finished; awaiting finish of 2 more threads\n",
      "2018-04-15 18:02:48,674 : INFO : EPOCH 3 - PROGRESS: at 99.38% examples, 525826 words/s, in_qsize 1, out_qsize 1\n",
      "2018-04-15 18:02:48,675 : INFO : worker thread finished; awaiting finish of 1 more threads\n",
      "2018-04-15 18:02:48,694 : INFO : worker thread finished; awaiting finish of 0 more threads\n",
      "2018-04-15 18:02:48,695 : INFO : EPOCH - 3 : training on 23058171 raw words (1609830 effective words) took 3.1s, 525591 effective words/s\n",
      "2018-04-15 18:02:49,702 : INFO : EPOCH 4 - PROGRESS: at 32.72% examples, 526923 words/s, in_qsize 6, out_qsize 0\n",
      "2018-04-15 18:02:50,706 : INFO : EPOCH 4 - PROGRESS: at 66.67% examples, 536491 words/s, in_qsize 5, out_qsize 0\n",
      "2018-04-15 18:02:51,682 : INFO : worker thread finished; awaiting finish of 2 more threads\n",
      "2018-04-15 18:02:51,686 : INFO : worker thread finished; awaiting finish of 1 more threads\n",
      "2018-04-15 18:02:51,706 : INFO : EPOCH 4 - PROGRESS: at 100.00% examples, 535357 words/s, in_qsize 0, out_qsize 1\n",
      "2018-04-15 18:02:51,707 : INFO : worker thread finished; awaiting finish of 0 more threads\n",
      "2018-04-15 18:02:51,707 : INFO : EPOCH - 4 : training on 23058171 raw words (1609821 effective words) took 3.0s, 535167 effective words/s\n",
      "2018-04-15 18:02:52,744 : INFO : EPOCH 5 - PROGRESS: at 33.33% examples, 520796 words/s, in_qsize 6, out_qsize 0\n",
      "2018-04-15 18:02:53,757 : INFO : EPOCH 5 - PROGRESS: at 66.67% examples, 525829 words/s, in_qsize 6, out_qsize 0\n",
      "2018-04-15 18:02:54,702 : INFO : worker thread finished; awaiting finish of 2 more threads\n",
      "2018-04-15 18:02:54,708 : INFO : worker thread finished; awaiting finish of 1 more threads\n",
      "2018-04-15 18:02:54,743 : INFO : worker thread finished; awaiting finish of 0 more threads\n",
      "2018-04-15 18:02:54,744 : INFO : EPOCH - 5 : training on 23058171 raw words (1609856 effective words) took 3.0s, 530525 effective words/s\n",
      "2018-04-15 18:02:55,756 : INFO : EPOCH 6 - PROGRESS: at 32.10% examples, 514959 words/s, in_qsize 4, out_qsize 1\n",
      "2018-04-15 18:02:56,792 : INFO : EPOCH 6 - PROGRESS: at 66.67% examples, 526810 words/s, in_qsize 5, out_qsize 0\n",
      "2018-04-15 18:02:57,745 : INFO : worker thread finished; awaiting finish of 2 more threads\n",
      "2018-04-15 18:02:57,758 : INFO : worker thread finished; awaiting finish of 1 more threads\n",
      "2018-04-15 18:02:57,775 : INFO : worker thread finished; awaiting finish of 0 more threads\n",
      "2018-04-15 18:02:57,775 : INFO : EPOCH - 6 : training on 23058171 raw words (1609823 effective words) took 3.0s, 531910 effective words/s\n",
      "2018-04-15 18:02:58,790 : INFO : EPOCH 7 - PROGRESS: at 32.72% examples, 521950 words/s, in_qsize 4, out_qsize 1\n",
      "2018-04-15 18:02:59,809 : INFO : EPOCH 7 - PROGRESS: at 66.67% examples, 529971 words/s, in_qsize 6, out_qsize 0\n",
      "2018-04-15 18:03:00,751 : INFO : worker thread finished; awaiting finish of 2 more threads\n",
      "2018-04-15 18:03:00,778 : INFO : worker thread finished; awaiting finish of 1 more threads\n",
      "2018-04-15 18:03:00,788 : INFO : worker thread finished; awaiting finish of 0 more threads\n",
      "2018-04-15 18:03:00,789 : INFO : EPOCH - 7 : training on 23058171 raw words (1609837 effective words) took 3.0s, 534529 effective words/s\n",
      "2018-04-15 18:03:01,808 : INFO : EPOCH 8 - PROGRESS: at 32.72% examples, 519742 words/s, in_qsize 6, out_qsize 0\n",
      "2018-04-15 18:03:02,811 : INFO : EPOCH 8 - PROGRESS: at 66.05% examples, 528053 words/s, in_qsize 6, out_qsize 0\n",
      "2018-04-15 18:03:03,776 : INFO : worker thread finished; awaiting finish of 2 more threads\n",
      "2018-04-15 18:03:03,802 : INFO : worker thread finished; awaiting finish of 1 more threads\n",
      "2018-04-15 18:03:03,820 : INFO : EPOCH 8 - PROGRESS: at 100.00% examples, 531558 words/s, in_qsize 0, out_qsize 1\n",
      "2018-04-15 18:03:03,821 : INFO : worker thread finished; awaiting finish of 0 more threads\n",
      "2018-04-15 18:03:03,821 : INFO : EPOCH - 8 : training on 23058171 raw words (1609846 effective words) took 3.0s, 531364 effective words/s\n",
      "2018-04-15 18:03:04,832 : INFO : EPOCH 9 - PROGRESS: at 32.72% examples, 524276 words/s, in_qsize 6, out_qsize 0\n",
      "2018-04-15 18:03:05,854 : INFO : EPOCH 9 - PROGRESS: at 66.67% examples, 530321 words/s, in_qsize 6, out_qsize 0\n",
      "2018-04-15 18:03:06,804 : INFO : worker thread finished; awaiting finish of 2 more threads\n",
      "2018-04-15 18:03:06,811 : INFO : worker thread finished; awaiting finish of 1 more threads\n",
      "2018-04-15 18:03:06,841 : INFO : worker thread finished; awaiting finish of 0 more threads\n",
      "2018-04-15 18:03:06,842 : INFO : EPOCH - 9 : training on 23058171 raw words (1609850 effective words) took 3.0s, 533515 effective words/s\n",
      "2018-04-15 18:03:07,864 : INFO : EPOCH 10 - PROGRESS: at 32.72% examples, 518020 words/s, in_qsize 6, out_qsize 0\n",
      "2018-04-15 18:03:08,865 : INFO : EPOCH 10 - PROGRESS: at 66.05% examples, 527792 words/s, in_qsize 4, out_qsize 1\n",
      "2018-04-15 18:03:09,834 : INFO : worker thread finished; awaiting finish of 2 more threads\n",
      "2018-04-15 18:03:09,857 : INFO : worker thread finished; awaiting finish of 1 more threads\n",
      "2018-04-15 18:03:09,868 : INFO : EPOCH 10 - PROGRESS: at 100.00% examples, 532316 words/s, in_qsize 0, out_qsize 1\n",
      "2018-04-15 18:03:09,869 : INFO : worker thread finished; awaiting finish of 0 more threads\n",
      "2018-04-15 18:03:09,870 : INFO : EPOCH - 10 : training on 23058171 raw words (1609823 effective words) took 3.0s, 532078 effective words/s\n",
      "2018-04-15 18:03:10,883 : INFO : EPOCH 11 - PROGRESS: at 31.48% examples, 502837 words/s, in_qsize 6, out_qsize 0\n",
      "2018-04-15 18:03:11,921 : INFO : EPOCH 11 - PROGRESS: at 65.43% examples, 515522 words/s, in_qsize 5, out_qsize 0\n",
      "2018-04-15 18:03:12,907 : INFO : worker thread finished; awaiting finish of 2 more threads\n",
      "2018-04-15 18:03:12,918 : INFO : worker thread finished; awaiting finish of 1 more threads\n",
      "2018-04-15 18:03:12,946 : INFO : EPOCH 11 - PROGRESS: at 100.00% examples, 523553 words/s, in_qsize 0, out_qsize 1\n",
      "2018-04-15 18:03:12,947 : INFO : worker thread finished; awaiting finish of 0 more threads\n",
      "2018-04-15 18:03:12,948 : INFO : EPOCH - 11 : training on 23058171 raw words (1609848 effective words) took 3.1s, 523311 effective words/s\n",
      "2018-04-15 18:03:13,960 : INFO : EPOCH 12 - PROGRESS: at 32.72% examples, 523094 words/s, in_qsize 6, out_qsize 0\n",
      "2018-04-15 18:03:14,996 : INFO : EPOCH 12 - PROGRESS: at 66.67% examples, 526292 words/s, in_qsize 5, out_qsize 0\n",
      "2018-04-15 18:03:15,946 : INFO : worker thread finished; awaiting finish of 2 more threads\n"
     ]
    },
    {
     "name": "stderr",
     "output_type": "stream",
     "text": [
      "2018-04-15 18:03:15,957 : INFO : worker thread finished; awaiting finish of 1 more threads\n",
      "2018-04-15 18:03:15,989 : INFO : worker thread finished; awaiting finish of 0 more threads\n",
      "2018-04-15 18:03:15,990 : INFO : EPOCH - 12 : training on 23058171 raw words (1609830 effective words) took 3.0s, 529596 effective words/s\n",
      "2018-04-15 18:03:16,999 : INFO : EPOCH 13 - PROGRESS: at 32.72% examples, 524828 words/s, in_qsize 6, out_qsize 0\n",
      "2018-04-15 18:03:18,006 : INFO : EPOCH 13 - PROGRESS: at 66.05% examples, 529495 words/s, in_qsize 5, out_qsize 0\n",
      "2018-04-15 18:03:18,953 : INFO : worker thread finished; awaiting finish of 2 more threads\n",
      "2018-04-15 18:03:18,993 : INFO : worker thread finished; awaiting finish of 1 more threads\n",
      "2018-04-15 18:03:19,003 : INFO : worker thread finished; awaiting finish of 0 more threads\n",
      "2018-04-15 18:03:19,004 : INFO : EPOCH - 13 : training on 23058171 raw words (1609841 effective words) took 3.0s, 534470 effective words/s\n",
      "2018-04-15 18:03:20,057 : INFO : EPOCH 14 - PROGRESS: at 33.33% examples, 512719 words/s, in_qsize 4, out_qsize 1\n",
      "2018-04-15 18:03:21,069 : INFO : EPOCH 14 - PROGRESS: at 67.28% examples, 526754 words/s, in_qsize 6, out_qsize 0\n",
      "2018-04-15 18:03:21,985 : INFO : worker thread finished; awaiting finish of 2 more threads\n",
      "2018-04-15 18:03:21,992 : INFO : worker thread finished; awaiting finish of 1 more threads\n",
      "2018-04-15 18:03:22,022 : INFO : worker thread finished; awaiting finish of 0 more threads\n",
      "2018-04-15 18:03:22,022 : INFO : EPOCH - 14 : training on 23058171 raw words (1609816 effective words) took 3.0s, 533786 effective words/s\n",
      "2018-04-15 18:03:23,032 : INFO : EPOCH 15 - PROGRESS: at 32.72% examples, 524473 words/s, in_qsize 6, out_qsize 1\n",
      "2018-04-15 18:03:24,073 : INFO : EPOCH 15 - PROGRESS: at 67.90% examples, 535409 words/s, in_qsize 5, out_qsize 0\n",
      "2018-04-15 18:03:24,973 : INFO : worker thread finished; awaiting finish of 2 more threads\n",
      "2018-04-15 18:03:25,003 : INFO : worker thread finished; awaiting finish of 1 more threads\n",
      "2018-04-15 18:03:25,013 : INFO : worker thread finished; awaiting finish of 0 more threads\n",
      "2018-04-15 18:03:25,014 : INFO : EPOCH - 15 : training on 23058171 raw words (1609861 effective words) took 3.0s, 538592 effective words/s\n",
      "2018-04-15 18:03:26,046 : INFO : EPOCH 16 - PROGRESS: at 33.33% examples, 522948 words/s, in_qsize 5, out_qsize 0\n",
      "2018-04-15 18:03:27,061 : INFO : EPOCH 16 - PROGRESS: at 67.28% examples, 531280 words/s, in_qsize 6, out_qsize 0\n",
      "2018-04-15 18:03:27,976 : INFO : worker thread finished; awaiting finish of 2 more threads\n",
      "2018-04-15 18:03:27,986 : INFO : worker thread finished; awaiting finish of 1 more threads\n",
      "2018-04-15 18:03:28,015 : INFO : worker thread finished; awaiting finish of 0 more threads\n",
      "2018-04-15 18:03:28,016 : INFO : EPOCH - 16 : training on 23058171 raw words (1609830 effective words) took 3.0s, 536718 effective words/s\n",
      "2018-04-15 18:03:29,030 : INFO : EPOCH 17 - PROGRESS: at 32.72% examples, 522221 words/s, in_qsize 5, out_qsize 0\n",
      "2018-04-15 18:03:30,038 : INFO : EPOCH 17 - PROGRESS: at 66.67% examples, 532996 words/s, in_qsize 5, out_qsize 0\n",
      "2018-04-15 18:03:31,002 : INFO : worker thread finished; awaiting finish of 2 more threads\n",
      "2018-04-15 18:03:31,024 : INFO : worker thread finished; awaiting finish of 1 more threads\n",
      "2018-04-15 18:03:31,043 : INFO : EPOCH 17 - PROGRESS: at 100.00% examples, 532244 words/s, in_qsize 0, out_qsize 1\n",
      "2018-04-15 18:03:31,044 : INFO : worker thread finished; awaiting finish of 0 more threads\n",
      "2018-04-15 18:03:31,044 : INFO : EPOCH - 17 : training on 23058171 raw words (1609844 effective words) took 3.0s, 532032 effective words/s\n",
      "2018-04-15 18:03:32,053 : INFO : EPOCH 18 - PROGRESS: at 32.72% examples, 525604 words/s, in_qsize 5, out_qsize 0\n",
      "2018-04-15 18:03:33,061 : INFO : EPOCH 18 - PROGRESS: at 66.67% examples, 534681 words/s, in_qsize 6, out_qsize 0\n",
      "2018-04-15 18:03:34,024 : INFO : worker thread finished; awaiting finish of 2 more threads\n",
      "2018-04-15 18:03:34,032 : INFO : worker thread finished; awaiting finish of 1 more threads\n",
      "2018-04-15 18:03:34,033 : INFO : worker thread finished; awaiting finish of 0 more threads\n",
      "2018-04-15 18:03:34,034 : INFO : EPOCH - 18 : training on 23058171 raw words (1609851 effective words) took 3.0s, 539158 effective words/s\n",
      "2018-04-15 18:03:35,061 : INFO : EPOCH 19 - PROGRESS: at 33.33% examples, 526590 words/s, in_qsize 4, out_qsize 1\n",
      "2018-04-15 18:03:36,093 : INFO : EPOCH 19 - PROGRESS: at 67.90% examples, 533656 words/s, in_qsize 6, out_qsize 0\n",
      "2018-04-15 18:03:36,980 : INFO : worker thread finished; awaiting finish of 2 more threads\n",
      "2018-04-15 18:03:37,003 : INFO : worker thread finished; awaiting finish of 1 more threads\n",
      "2018-04-15 18:03:37,020 : INFO : worker thread finished; awaiting finish of 0 more threads\n",
      "2018-04-15 18:03:37,020 : INFO : EPOCH - 19 : training on 23058171 raw words (1609816 effective words) took 3.0s, 539860 effective words/s\n",
      "2018-04-15 18:03:38,065 : INFO : EPOCH 20 - PROGRESS: at 33.95% examples, 528878 words/s, in_qsize 6, out_qsize 0\n",
      "2018-04-15 18:03:39,071 : INFO : EPOCH 20 - PROGRESS: at 67.90% examples, 536623 words/s, in_qsize 6, out_qsize 0\n",
      "2018-04-15 18:03:39,961 : INFO : worker thread finished; awaiting finish of 2 more threads\n",
      "2018-04-15 18:03:39,984 : INFO : worker thread finished; awaiting finish of 1 more threads\n",
      "2018-04-15 18:03:39,998 : INFO : worker thread finished; awaiting finish of 0 more threads\n",
      "2018-04-15 18:03:39,999 : INFO : EPOCH - 20 : training on 23058171 raw words (1609841 effective words) took 3.0s, 541737 effective words/s\n",
      "2018-04-15 18:03:41,011 : INFO : EPOCH 21 - PROGRESS: at 32.72% examples, 524115 words/s, in_qsize 6, out_qsize 0\n",
      "2018-04-15 18:03:42,021 : INFO : EPOCH 21 - PROGRESS: at 66.05% examples, 528447 words/s, in_qsize 5, out_qsize 0\n",
      "2018-04-15 18:03:42,989 : INFO : worker thread finished; awaiting finish of 2 more threads\n",
      "2018-04-15 18:03:42,995 : INFO : worker thread finished; awaiting finish of 1 more threads\n",
      "2018-04-15 18:03:42,997 : INFO : worker thread finished; awaiting finish of 0 more threads\n",
      "2018-04-15 18:03:42,998 : INFO : EPOCH - 21 : training on 23058171 raw words (1609832 effective words) took 3.0s, 537476 effective words/s\n",
      "2018-04-15 18:03:44,008 : INFO : EPOCH 22 - PROGRESS: at 32.72% examples, 525808 words/s, in_qsize 6, out_qsize 0\n",
      "2018-04-15 18:03:45,010 : INFO : EPOCH 22 - PROGRESS: at 66.67% examples, 536509 words/s, in_qsize 5, out_qsize 0\n",
      "2018-04-15 18:03:45,960 : INFO : worker thread finished; awaiting finish of 2 more threads\n",
      "2018-04-15 18:03:45,968 : INFO : worker thread finished; awaiting finish of 1 more threads\n",
      "2018-04-15 18:03:45,988 : INFO : worker thread finished; awaiting finish of 0 more threads\n",
      "2018-04-15 18:03:45,989 : INFO : EPOCH - 22 : training on 23058171 raw words (1609835 effective words) took 3.0s, 539171 effective words/s\n",
      "2018-04-15 18:03:47,024 : INFO : EPOCH 23 - PROGRESS: at 33.33% examples, 523299 words/s, in_qsize 6, out_qsize 0\n",
      "2018-04-15 18:03:48,044 : INFO : EPOCH 23 - PROGRESS: at 67.90% examples, 535297 words/s, in_qsize 6, out_qsize 0\n",
      "2018-04-15 18:03:48,946 : INFO : worker thread finished; awaiting finish of 2 more threads\n",
      "2018-04-15 18:03:48,965 : INFO : worker thread finished; awaiting finish of 1 more threads\n",
      "2018-04-15 18:03:48,981 : INFO : worker thread finished; awaiting finish of 0 more threads\n",
      "2018-04-15 18:03:48,981 : INFO : EPOCH - 23 : training on 23058171 raw words (1609845 effective words) took 3.0s, 539047 effective words/s\n",
      "2018-04-15 18:03:50,002 : INFO : EPOCH 24 - PROGRESS: at 33.95% examples, 541362 words/s, in_qsize 5, out_qsize 0\n",
      "2018-04-15 18:03:51,035 : INFO : EPOCH 24 - PROGRESS: at 67.90% examples, 535871 words/s, in_qsize 6, out_qsize 0\n",
      "2018-04-15 18:03:51,936 : INFO : worker thread finished; awaiting finish of 2 more threads\n",
      "2018-04-15 18:03:51,959 : INFO : worker thread finished; awaiting finish of 1 more threads\n",
      "2018-04-15 18:03:51,976 : INFO : worker thread finished; awaiting finish of 0 more threads\n",
      "2018-04-15 18:03:51,977 : INFO : EPOCH - 24 : training on 23058171 raw words (1609839 effective words) took 3.0s, 538775 effective words/s\n",
      "2018-04-15 18:03:52,987 : INFO : EPOCH 25 - PROGRESS: at 33.95% examples, 545001 words/s, in_qsize 5, out_qsize 0\n"
     ]
    },
    {
     "name": "stderr",
     "output_type": "stream",
     "text": [
      "2018-04-15 18:03:54,010 : INFO : EPOCH 25 - PROGRESS: at 67.90% examples, 540383 words/s, in_qsize 6, out_qsize 0\n",
      "2018-04-15 18:03:54,907 : INFO : worker thread finished; awaiting finish of 2 more threads\n",
      "2018-04-15 18:03:54,918 : INFO : worker thread finished; awaiting finish of 1 more threads\n",
      "2018-04-15 18:03:54,941 : INFO : worker thread finished; awaiting finish of 0 more threads\n",
      "2018-04-15 18:03:54,941 : INFO : EPOCH - 25 : training on 23058171 raw words (1609839 effective words) took 3.0s, 543729 effective words/s\n",
      "2018-04-15 18:03:55,953 : INFO : EPOCH 26 - PROGRESS: at 32.72% examples, 523723 words/s, in_qsize 4, out_qsize 1\n",
      "2018-04-15 18:03:56,962 : INFO : EPOCH 26 - PROGRESS: at 66.05% examples, 528503 words/s, in_qsize 3, out_qsize 2\n",
      "2018-04-15 18:03:57,899 : INFO : worker thread finished; awaiting finish of 2 more threads\n",
      "2018-04-15 18:03:57,917 : INFO : worker thread finished; awaiting finish of 1 more threads\n",
      "2018-04-15 18:03:57,935 : INFO : worker thread finished; awaiting finish of 0 more threads\n",
      "2018-04-15 18:03:57,935 : INFO : EPOCH - 26 : training on 23058171 raw words (1609827 effective words) took 3.0s, 538174 effective words/s\n",
      "2018-04-15 18:03:58,951 : INFO : EPOCH 27 - PROGRESS: at 33.95% examples, 541450 words/s, in_qsize 6, out_qsize 0\n",
      "2018-04-15 18:03:59,962 : INFO : EPOCH 27 - PROGRESS: at 67.90% examples, 541841 words/s, in_qsize 6, out_qsize 1\n",
      "2018-04-15 18:04:00,857 : INFO : worker thread finished; awaiting finish of 2 more threads\n",
      "2018-04-15 18:04:00,865 : INFO : worker thread finished; awaiting finish of 1 more threads\n",
      "2018-04-15 18:04:00,895 : INFO : worker thread finished; awaiting finish of 0 more threads\n",
      "2018-04-15 18:04:00,896 : INFO : EPOCH - 27 : training on 23058171 raw words (1609841 effective words) took 3.0s, 544209 effective words/s\n",
      "2018-04-15 18:04:01,918 : INFO : EPOCH 28 - PROGRESS: at 33.33% examples, 530284 words/s, in_qsize 5, out_qsize 0\n",
      "2018-04-15 18:04:02,924 : INFO : EPOCH 28 - PROGRESS: at 67.28% examples, 537543 words/s, in_qsize 6, out_qsize 0\n",
      "2018-04-15 18:04:03,846 : INFO : worker thread finished; awaiting finish of 2 more threads\n",
      "2018-04-15 18:04:03,860 : INFO : worker thread finished; awaiting finish of 1 more threads\n",
      "2018-04-15 18:04:03,861 : INFO : worker thread finished; awaiting finish of 0 more threads\n",
      "2018-04-15 18:04:03,862 : INFO : EPOCH - 28 : training on 23058171 raw words (1609840 effective words) took 3.0s, 543973 effective words/s\n",
      "2018-04-15 18:04:04,869 : INFO : EPOCH 29 - PROGRESS: at 33.33% examples, 536203 words/s, in_qsize 6, out_qsize 0\n",
      "2018-04-15 18:04:05,871 : INFO : EPOCH 29 - PROGRESS: at 66.67% examples, 536604 words/s, in_qsize 5, out_qsize 0\n",
      "2018-04-15 18:04:06,804 : INFO : worker thread finished; awaiting finish of 2 more threads\n",
      "2018-04-15 18:04:06,839 : INFO : worker thread finished; awaiting finish of 1 more threads\n",
      "2018-04-15 18:04:06,846 : INFO : worker thread finished; awaiting finish of 0 more threads\n",
      "2018-04-15 18:04:06,847 : INFO : EPOCH - 29 : training on 23058171 raw words (1609835 effective words) took 3.0s, 539770 effective words/s\n",
      "2018-04-15 18:04:07,903 : INFO : EPOCH 30 - PROGRESS: at 34.57% examples, 531061 words/s, in_qsize 6, out_qsize 0\n",
      "2018-04-15 18:04:08,927 : INFO : EPOCH 30 - PROGRESS: at 69.75% examples, 542570 words/s, in_qsize 5, out_qsize 0\n",
      "2018-04-15 18:04:09,770 : INFO : worker thread finished; awaiting finish of 2 more threads\n",
      "2018-04-15 18:04:09,780 : INFO : worker thread finished; awaiting finish of 1 more threads\n",
      "2018-04-15 18:04:09,788 : INFO : worker thread finished; awaiting finish of 0 more threads\n",
      "2018-04-15 18:04:09,788 : INFO : EPOCH - 30 : training on 23058171 raw words (1609847 effective words) took 2.9s, 548114 effective words/s\n",
      "2018-04-15 18:04:10,811 : INFO : EPOCH 31 - PROGRESS: at 33.95% examples, 538304 words/s, in_qsize 5, out_qsize 0\n",
      "2018-04-15 18:04:11,813 : INFO : EPOCH 31 - PROGRESS: at 66.67% examples, 532665 words/s, in_qsize 6, out_qsize 0\n",
      "2018-04-15 18:04:12,745 : INFO : worker thread finished; awaiting finish of 2 more threads\n",
      "2018-04-15 18:04:12,768 : INFO : worker thread finished; awaiting finish of 1 more threads\n",
      "2018-04-15 18:04:12,780 : INFO : worker thread finished; awaiting finish of 0 more threads\n",
      "2018-04-15 18:04:12,780 : INFO : EPOCH - 31 : training on 23058171 raw words (1609829 effective words) took 3.0s, 538716 effective words/s\n",
      "2018-04-15 18:04:13,821 : INFO : EPOCH 32 - PROGRESS: at 34.57% examples, 538005 words/s, in_qsize 6, out_qsize 1\n",
      "2018-04-15 18:04:14,823 : INFO : EPOCH 32 - PROGRESS: at 68.52% examples, 542247 words/s, in_qsize 6, out_qsize 0\n",
      "2018-04-15 18:04:15,693 : INFO : worker thread finished; awaiting finish of 2 more threads\n",
      "2018-04-15 18:04:15,707 : INFO : worker thread finished; awaiting finish of 1 more threads\n",
      "2018-04-15 18:04:15,733 : INFO : worker thread finished; awaiting finish of 0 more threads\n",
      "2018-04-15 18:04:15,734 : INFO : EPOCH - 32 : training on 23058171 raw words (1609852 effective words) took 3.0s, 545451 effective words/s\n",
      "2018-04-15 18:04:16,756 : INFO : EPOCH 33 - PROGRESS: at 33.33% examples, 528822 words/s, in_qsize 6, out_qsize 1\n",
      "2018-04-15 18:04:17,762 : INFO : EPOCH 33 - PROGRESS: at 67.28% examples, 536824 words/s, in_qsize 4, out_qsize 1\n",
      "2018-04-15 18:04:18,667 : INFO : worker thread finished; awaiting finish of 2 more threads\n",
      "2018-04-15 18:04:18,672 : INFO : worker thread finished; awaiting finish of 1 more threads\n",
      "2018-04-15 18:04:18,706 : INFO : worker thread finished; awaiting finish of 0 more threads\n",
      "2018-04-15 18:04:18,707 : INFO : EPOCH - 33 : training on 23058171 raw words (1609814 effective words) took 3.0s, 542134 effective words/s\n",
      "2018-04-15 18:04:19,724 : INFO : EPOCH 34 - PROGRESS: at 33.95% examples, 541368 words/s, in_qsize 4, out_qsize 1\n",
      "2018-04-15 18:04:20,728 : INFO : EPOCH 34 - PROGRESS: at 67.90% examples, 543795 words/s, in_qsize 4, out_qsize 1\n",
      "2018-04-15 18:04:21,607 : INFO : worker thread finished; awaiting finish of 2 more threads\n",
      "2018-04-15 18:04:21,635 : INFO : worker thread finished; awaiting finish of 1 more threads\n",
      "2018-04-15 18:04:21,649 : INFO : worker thread finished; awaiting finish of 0 more threads\n",
      "2018-04-15 18:04:21,650 : INFO : EPOCH - 34 : training on 23058171 raw words (1609834 effective words) took 2.9s, 547833 effective words/s\n",
      "2018-04-15 18:04:22,662 : INFO : EPOCH 35 - PROGRESS: at 32.72% examples, 524085 words/s, in_qsize 6, out_qsize 0\n",
      "2018-04-15 18:04:23,665 : INFO : EPOCH 35 - PROGRESS: at 67.28% examples, 540358 words/s, in_qsize 4, out_qsize 1\n",
      "2018-04-15 18:04:24,579 : INFO : worker thread finished; awaiting finish of 2 more threads\n",
      "2018-04-15 18:04:24,596 : INFO : worker thread finished; awaiting finish of 1 more threads\n",
      "2018-04-15 18:04:24,604 : INFO : worker thread finished; awaiting finish of 0 more threads\n",
      "2018-04-15 18:04:24,605 : INFO : EPOCH - 35 : training on 23058171 raw words (1609821 effective words) took 3.0s, 545510 effective words/s\n",
      "2018-04-15 18:04:25,614 : INFO : EPOCH 36 - PROGRESS: at 33.33% examples, 534655 words/s, in_qsize 5, out_qsize 0\n",
      "2018-04-15 18:04:26,619 : INFO : EPOCH 36 - PROGRESS: at 67.28% examples, 539906 words/s, in_qsize 4, out_qsize 1\n",
      "2018-04-15 18:04:27,521 : INFO : worker thread finished; awaiting finish of 2 more threads\n",
      "2018-04-15 18:04:27,536 : INFO : worker thread finished; awaiting finish of 1 more threads\n",
      "2018-04-15 18:04:27,557 : INFO : worker thread finished; awaiting finish of 0 more threads\n",
      "2018-04-15 18:04:27,557 : INFO : EPOCH - 36 : training on 23058171 raw words (1609823 effective words) took 3.0s, 545639 effective words/s\n",
      "2018-04-15 18:04:28,595 : INFO : EPOCH 37 - PROGRESS: at 34.57% examples, 538864 words/s, in_qsize 4, out_qsize 1\n",
      "2018-04-15 18:04:29,635 : INFO : EPOCH 37 - PROGRESS: at 69.75% examples, 542747 words/s, in_qsize 6, out_qsize 0\n",
      "2018-04-15 18:04:30,451 : INFO : worker thread finished; awaiting finish of 2 more threads\n",
      "2018-04-15 18:04:30,468 : INFO : worker thread finished; awaiting finish of 1 more threads\n",
      "2018-04-15 18:04:30,493 : INFO : worker thread finished; awaiting finish of 0 more threads\n",
      "2018-04-15 18:04:30,494 : INFO : EPOCH - 37 : training on 23058171 raw words (1609818 effective words) took 2.9s, 548553 effective words/s\n"
     ]
    },
    {
     "name": "stderr",
     "output_type": "stream",
     "text": [
      "2018-04-15 18:04:31,517 : INFO : EPOCH 38 - PROGRESS: at 33.33% examples, 529367 words/s, in_qsize 6, out_qsize 1\n",
      "2018-04-15 18:04:32,524 : INFO : EPOCH 38 - PROGRESS: at 67.28% examples, 536718 words/s, in_qsize 6, out_qsize 0\n",
      "2018-04-15 18:04:33,436 : INFO : worker thread finished; awaiting finish of 2 more threads\n",
      "2018-04-15 18:04:33,441 : INFO : worker thread finished; awaiting finish of 1 more threads\n",
      "2018-04-15 18:04:33,466 : INFO : worker thread finished; awaiting finish of 0 more threads\n",
      "2018-04-15 18:04:33,467 : INFO : EPOCH - 38 : training on 23058171 raw words (1609840 effective words) took 3.0s, 542518 effective words/s\n",
      "2018-04-15 18:04:34,494 : INFO : EPOCH 39 - PROGRESS: at 32.72% examples, 517578 words/s, in_qsize 3, out_qsize 2\n",
      "2018-04-15 18:04:35,500 : INFO : EPOCH 39 - PROGRESS: at 67.28% examples, 536055 words/s, in_qsize 4, out_qsize 1\n",
      "2018-04-15 18:04:36,410 : INFO : worker thread finished; awaiting finish of 2 more threads\n",
      "2018-04-15 18:04:36,424 : INFO : worker thread finished; awaiting finish of 1 more threads\n",
      "2018-04-15 18:04:36,426 : INFO : worker thread finished; awaiting finish of 0 more threads\n",
      "2018-04-15 18:04:36,427 : INFO : EPOCH - 39 : training on 23058171 raw words (1609844 effective words) took 3.0s, 544907 effective words/s\n",
      "2018-04-15 18:04:37,464 : INFO : EPOCH 40 - PROGRESS: at 33.95% examples, 530289 words/s, in_qsize 5, out_qsize 0\n",
      "2018-04-15 18:04:38,466 : INFO : EPOCH 40 - PROGRESS: at 68.52% examples, 543447 words/s, in_qsize 6, out_qsize 1\n",
      "2018-04-15 18:04:39,325 : INFO : worker thread finished; awaiting finish of 2 more threads\n",
      "2018-04-15 18:04:39,353 : INFO : worker thread finished; awaiting finish of 1 more threads\n",
      "2018-04-15 18:04:39,363 : INFO : worker thread finished; awaiting finish of 0 more threads\n",
      "2018-04-15 18:04:39,363 : INFO : EPOCH - 40 : training on 23058171 raw words (1609846 effective words) took 2.9s, 548757 effective words/s\n",
      "2018-04-15 18:04:40,394 : INFO : EPOCH 41 - PROGRESS: at 34.57% examples, 544647 words/s, in_qsize 6, out_qsize 0\n",
      "2018-04-15 18:04:41,402 : INFO : EPOCH 41 - PROGRESS: at 69.14% examples, 548864 words/s, in_qsize 6, out_qsize 0\n",
      "2018-04-15 18:04:42,265 : INFO : worker thread finished; awaiting finish of 2 more threads\n",
      "2018-04-15 18:04:42,288 : INFO : worker thread finished; awaiting finish of 1 more threads\n",
      "2018-04-15 18:04:42,305 : INFO : worker thread finished; awaiting finish of 0 more threads\n",
      "2018-04-15 18:04:42,305 : INFO : EPOCH - 41 : training on 23058171 raw words (1609832 effective words) took 2.9s, 548060 effective words/s\n",
      "2018-04-15 18:04:43,335 : INFO : EPOCH 42 - PROGRESS: at 33.95% examples, 534745 words/s, in_qsize 6, out_qsize 0\n",
      "2018-04-15 18:04:44,343 : INFO : EPOCH 42 - PROGRESS: at 68.52% examples, 544204 words/s, in_qsize 5, out_qsize 0\n",
      "2018-04-15 18:04:45,221 : INFO : worker thread finished; awaiting finish of 2 more threads\n",
      "2018-04-15 18:04:45,240 : INFO : worker thread finished; awaiting finish of 1 more threads\n",
      "2018-04-15 18:04:45,255 : INFO : worker thread finished; awaiting finish of 0 more threads\n",
      "2018-04-15 18:04:45,256 : INFO : EPOCH - 42 : training on 23058171 raw words (1609843 effective words) took 2.9s, 546453 effective words/s\n",
      "2018-04-15 18:04:46,281 : INFO : EPOCH 43 - PROGRESS: at 33.95% examples, 538490 words/s, in_qsize 5, out_qsize 0\n",
      "2018-04-15 18:04:47,296 : INFO : EPOCH 43 - PROGRESS: at 67.90% examples, 539462 words/s, in_qsize 6, out_qsize 1\n",
      "2018-04-15 18:04:48,151 : INFO : worker thread finished; awaiting finish of 2 more threads\n",
      "2018-04-15 18:04:48,198 : INFO : worker thread finished; awaiting finish of 1 more threads\n",
      "2018-04-15 18:04:48,205 : INFO : worker thread finished; awaiting finish of 0 more threads\n",
      "2018-04-15 18:04:48,206 : INFO : EPOCH - 43 : training on 23058171 raw words (1609826 effective words) took 2.9s, 547029 effective words/s\n",
      "2018-04-15 18:04:49,244 : INFO : EPOCH 44 - PROGRESS: at 34.57% examples, 538604 words/s, in_qsize 6, out_qsize 0\n",
      "2018-04-15 18:04:50,248 : INFO : EPOCH 44 - PROGRESS: at 69.14% examples, 547360 words/s, in_qsize 6, out_qsize 0\n",
      "2018-04-15 18:04:51,095 : INFO : worker thread finished; awaiting finish of 2 more threads\n",
      "2018-04-15 18:04:51,131 : INFO : worker thread finished; awaiting finish of 1 more threads\n",
      "2018-04-15 18:04:51,140 : INFO : worker thread finished; awaiting finish of 0 more threads\n",
      "2018-04-15 18:04:51,141 : INFO : EPOCH - 44 : training on 23058171 raw words (1609835 effective words) took 2.9s, 548813 effective words/s\n",
      "2018-04-15 18:04:52,146 : INFO : EPOCH 45 - PROGRESS: at 34.57% examples, 557140 words/s, in_qsize 5, out_qsize 0\n",
      "2018-04-15 18:04:53,152 : INFO : EPOCH 45 - PROGRESS: at 68.52% examples, 550971 words/s, in_qsize 6, out_qsize 0\n",
      "2018-04-15 18:04:54,027 : INFO : worker thread finished; awaiting finish of 2 more threads\n",
      "2018-04-15 18:04:54,052 : INFO : worker thread finished; awaiting finish of 1 more threads\n",
      "2018-04-15 18:04:54,071 : INFO : worker thread finished; awaiting finish of 0 more threads\n",
      "2018-04-15 18:04:54,072 : INFO : EPOCH - 45 : training on 23058171 raw words (1609851 effective words) took 2.9s, 549854 effective words/s\n",
      "2018-04-15 18:04:55,091 : INFO : EPOCH 46 - PROGRESS: at 33.95% examples, 539831 words/s, in_qsize 6, out_qsize 0\n",
      "2018-04-15 18:04:56,096 : INFO : EPOCH 46 - PROGRESS: at 67.90% examples, 542664 words/s, in_qsize 4, out_qsize 1\n",
      "2018-04-15 18:04:56,984 : INFO : worker thread finished; awaiting finish of 2 more threads\n",
      "2018-04-15 18:04:56,989 : INFO : worker thread finished; awaiting finish of 1 more threads\n",
      "2018-04-15 18:04:57,017 : INFO : worker thread finished; awaiting finish of 0 more threads\n",
      "2018-04-15 18:04:57,018 : INFO : EPOCH - 46 : training on 23058171 raw words (1609853 effective words) took 2.9s, 547052 effective words/s\n",
      "2018-04-15 18:04:58,067 : INFO : EPOCH 47 - PROGRESS: at 34.57% examples, 533223 words/s, in_qsize 5, out_qsize 0\n",
      "2018-04-15 18:04:59,121 : INFO : EPOCH 47 - PROGRESS: at 69.75% examples, 536321 words/s, in_qsize 6, out_qsize 1\n",
      "2018-04-15 18:04:59,944 : INFO : worker thread finished; awaiting finish of 2 more threads\n",
      "2018-04-15 18:04:59,971 : INFO : worker thread finished; awaiting finish of 1 more threads\n",
      "2018-04-15 18:04:59,982 : INFO : worker thread finished; awaiting finish of 0 more threads\n",
      "2018-04-15 18:04:59,983 : INFO : EPOCH - 47 : training on 23058171 raw words (1609868 effective words) took 3.0s, 543334 effective words/s\n",
      "2018-04-15 18:05:01,012 : INFO : EPOCH 48 - PROGRESS: at 33.95% examples, 534457 words/s, in_qsize 6, out_qsize 0\n",
      "2018-04-15 18:05:02,025 : INFO : EPOCH 48 - PROGRESS: at 68.52% examples, 542513 words/s, in_qsize 6, out_qsize 1\n",
      "2018-04-15 18:05:02,878 : INFO : worker thread finished; awaiting finish of 2 more threads\n",
      "2018-04-15 18:05:02,910 : INFO : worker thread finished; awaiting finish of 1 more threads\n",
      "2018-04-15 18:05:02,918 : INFO : worker thread finished; awaiting finish of 0 more threads\n",
      "2018-04-15 18:05:02,919 : INFO : EPOCH - 48 : training on 23058171 raw words (1609817 effective words) took 2.9s, 548788 effective words/s\n",
      "2018-04-15 18:05:03,947 : INFO : EPOCH 49 - PROGRESS: at 34.57% examples, 545670 words/s, in_qsize 6, out_qsize 0\n",
      "2018-04-15 18:05:04,985 : INFO : EPOCH 49 - PROGRESS: at 69.75% examples, 546394 words/s, in_qsize 4, out_qsize 1\n",
      "2018-04-15 18:05:05,795 : INFO : worker thread finished; awaiting finish of 2 more threads\n",
      "2018-04-15 18:05:05,821 : INFO : worker thread finished; awaiting finish of 1 more threads\n",
      "2018-04-15 18:05:05,838 : INFO : worker thread finished; awaiting finish of 0 more threads\n",
      "2018-04-15 18:05:05,839 : INFO : EPOCH - 49 : training on 23058171 raw words (1609835 effective words) took 2.9s, 552173 effective words/s\n",
      "2018-04-15 18:05:06,883 : INFO : EPOCH 50 - PROGRESS: at 33.95% examples, 526557 words/s, in_qsize 6, out_qsize 0\n",
      "2018-04-15 18:05:07,889 : INFO : EPOCH 50 - PROGRESS: at 69.14% examples, 545272 words/s, in_qsize 5, out_qsize 0\n",
      "2018-04-15 18:05:08,744 : INFO : worker thread finished; awaiting finish of 2 more threads\n",
      "2018-04-15 18:05:08,779 : INFO : worker thread finished; awaiting finish of 1 more threads\n",
      "2018-04-15 18:05:08,787 : INFO : worker thread finished; awaiting finish of 0 more threads\n",
      "2018-04-15 18:05:08,788 : INFO : EPOCH - 50 : training on 23058171 raw words (1609852 effective words) took 2.9s, 546370 effective words/s\n"
     ]
    },
    {
     "name": "stderr",
     "output_type": "stream",
     "text": [
      "2018-04-15 18:05:09,801 : INFO : EPOCH 51 - PROGRESS: at 33.33% examples, 532511 words/s, in_qsize 6, out_qsize 0\n",
      "2018-04-15 18:05:10,858 : INFO : EPOCH 51 - PROGRESS: at 67.90% examples, 530158 words/s, in_qsize 3, out_qsize 2\n",
      "2018-04-15 18:05:11,739 : INFO : worker thread finished; awaiting finish of 2 more threads\n",
      "2018-04-15 18:05:11,743 : INFO : worker thread finished; awaiting finish of 1 more threads\n",
      "2018-04-15 18:05:11,764 : INFO : worker thread finished; awaiting finish of 0 more threads\n",
      "2018-04-15 18:05:11,764 : INFO : EPOCH - 51 : training on 23058171 raw words (1609841 effective words) took 3.0s, 541154 effective words/s\n",
      "2018-04-15 18:05:12,814 : INFO : EPOCH 52 - PROGRESS: at 33.95% examples, 523921 words/s, in_qsize 4, out_qsize 1\n",
      "2018-04-15 18:05:13,814 : INFO : EPOCH 52 - PROGRESS: at 67.90% examples, 535677 words/s, in_qsize 5, out_qsize 0\n",
      "2018-04-15 18:05:14,683 : INFO : worker thread finished; awaiting finish of 2 more threads\n",
      "2018-04-15 18:05:14,712 : INFO : worker thread finished; awaiting finish of 1 more threads\n",
      "2018-04-15 18:05:14,721 : INFO : worker thread finished; awaiting finish of 0 more threads\n",
      "2018-04-15 18:05:14,721 : INFO : EPOCH - 52 : training on 23058171 raw words (1609842 effective words) took 3.0s, 544936 effective words/s\n",
      "2018-04-15 18:05:15,743 : INFO : EPOCH 53 - PROGRESS: at 33.95% examples, 538192 words/s, in_qsize 6, out_qsize 0\n",
      "2018-04-15 18:05:16,752 : INFO : EPOCH 53 - PROGRESS: at 68.52% examples, 545532 words/s, in_qsize 5, out_qsize 0\n",
      "2018-04-15 18:05:17,633 : INFO : worker thread finished; awaiting finish of 2 more threads\n",
      "2018-04-15 18:05:17,634 : INFO : worker thread finished; awaiting finish of 1 more threads\n",
      "2018-04-15 18:05:17,666 : INFO : worker thread finished; awaiting finish of 0 more threads\n",
      "2018-04-15 18:05:17,667 : INFO : EPOCH - 53 : training on 23058171 raw words (1609842 effective words) took 2.9s, 546904 effective words/s\n",
      "2018-04-15 18:05:18,673 : INFO : EPOCH 54 - PROGRESS: at 33.33% examples, 536099 words/s, in_qsize 6, out_qsize 0\n",
      "2018-04-15 18:05:19,689 : INFO : EPOCH 54 - PROGRESS: at 67.90% examples, 542744 words/s, in_qsize 6, out_qsize 0\n",
      "2018-04-15 18:05:20,578 : INFO : worker thread finished; awaiting finish of 2 more threads\n",
      "2018-04-15 18:05:20,597 : INFO : worker thread finished; awaiting finish of 1 more threads\n",
      "2018-04-15 18:05:20,602 : INFO : worker thread finished; awaiting finish of 0 more threads\n",
      "2018-04-15 18:05:20,603 : INFO : EPOCH - 54 : training on 23058171 raw words (1609839 effective words) took 2.9s, 548757 effective words/s\n",
      "2018-04-15 18:05:21,646 : INFO : EPOCH 55 - PROGRESS: at 34.57% examples, 536342 words/s, in_qsize 5, out_qsize 0\n",
      "2018-04-15 18:05:22,655 : INFO : EPOCH 55 - PROGRESS: at 69.14% examples, 544556 words/s, in_qsize 4, out_qsize 1\n",
      "2018-04-15 18:05:23,489 : INFO : worker thread finished; awaiting finish of 2 more threads\n",
      "2018-04-15 18:05:23,518 : INFO : worker thread finished; awaiting finish of 1 more threads\n",
      "2018-04-15 18:05:23,519 : INFO : worker thread finished; awaiting finish of 0 more threads\n",
      "2018-04-15 18:05:23,520 : INFO : EPOCH - 55 : training on 23058171 raw words (1609831 effective words) took 2.9s, 552248 effective words/s\n",
      "2018-04-15 18:05:23,521 : INFO : training on a 1268199405 raw words (88541022 effective words) took 164.1s, 539404 effective words/s\n"
     ]
    },
    {
     "name": "stdout",
     "output_type": "stream",
     "text": [
      "CPU times: user 7min 41s, sys: 1.08 s, total: 7min 42s\n",
      "Wall time: 2min 44s\n"
     ]
    }
   ],
   "source": [
    "%%time\n",
    "model.train(train_corpus, \n",
    "            total_examples=model.corpus_count, \n",
    "            epochs=55)"
   ]
  },
  {
   "cell_type": "markdown",
   "metadata": {},
   "source": [
    "## Проверка на вменяемость для Doc2Vec модели "
   ]
  },
  {
   "cell_type": "code",
   "execution_count": 9,
   "metadata": {},
   "outputs": [],
   "source": [
    "def get_ranks(train_corpus):\n",
    "    ranks = []\n",
    "\n",
    "    for doc in train_corpus:\n",
    "        inferred_vector = model.infer_vector(doc.words)\n",
    "        sims = model.docvecs.most_similar([inferred_vector], topn=len(model.docvecs))\n",
    "        rank = [docid for docid, sim in sims].index(doc.tags[0])\n",
    "        ranks.append(rank)\n",
    "    \n",
    "    return collections.Counter(ranks)"
   ]
  },
  {
   "cell_type": "code",
   "execution_count": 10,
   "metadata": {},
   "outputs": [
    {
     "name": "stderr",
     "output_type": "stream",
     "text": [
      "2018-04-15 17:40:01,299 : INFO : precomputing L2-norms of doc weight vectors\n"
     ]
    },
    {
     "name": "stdout",
     "output_type": "stream",
     "text": [
      "CPU times: user 1min 9s, sys: 2.04 s, total: 1min 11s\n",
      "Wall time: 41.9 s\n"
     ]
    },
    {
     "data": {
      "text/plain": [
       "Counter({0: 162})"
      ]
     },
     "execution_count": 10,
     "metadata": {},
     "output_type": "execute_result"
    }
   ],
   "source": [
    "%%time\n",
    "get_ranks(train_corpus)"
   ]
  },
  {
   "cell_type": "code",
   "execution_count": 11,
   "metadata": {},
   "outputs": [
    {
     "name": "stderr",
     "output_type": "stream",
     "text": [
      "2018-04-15 17:40:43,118 : INFO : saving Doc2Vec object under d2v-215, separately None\n",
      "2018-04-15 17:40:43,120 : INFO : storing np array 'syn1neg' to d2v-215.trainables.syn1neg.npy\n",
      "2018-04-15 17:40:44,394 : INFO : storing np array 'vectors' to d2v-215.wv.vectors.npy\n",
      "2018-04-15 17:40:48,151 : INFO : saved d2v-215\n"
     ]
    }
   ],
   "source": [
    "model.save('d2v-215')"
   ]
  },
  {
   "cell_type": "code",
   "execution_count": 41,
   "metadata": {},
   "outputs": [],
   "source": [
    "del model"
   ]
  },
  {
   "cell_type": "markdown",
   "metadata": {},
   "source": [
    "## Проверка результатов векторизации путем проведения кластеризации и отрисовки векторов в сжатом пространстве"
   ]
  },
  {
   "cell_type": "code",
   "execution_count": 14,
   "metadata": {},
   "outputs": [],
   "source": [
    "true_labels_df = pd.read_csv('ds_true.csv')\n",
    "true_labels = [j-1 for i in range(len(true_labels_df)) for j, el in enumerate(true_labels_df.iloc[i]) if el == 1]"
   ]
  },
  {
   "cell_type": "code",
   "execution_count": 3,
   "metadata": {},
   "outputs": [
    {
     "name": "stderr",
     "output_type": "stream",
     "text": [
      "2018-04-09 18:55:34,098 : INFO : loading Doc2Vec object from vs52mc2ephs55\n",
      "2018-04-09 18:55:36,054 : INFO : loading vocabulary recursively from vs52mc2ephs55.vocabulary.* with mmap=None\n",
      "2018-04-09 18:55:36,055 : INFO : loading trainables recursively from vs52mc2ephs55.trainables.* with mmap=None\n",
      "2018-04-09 18:55:36,055 : INFO : loading syn1neg from vs52mc2ephs55.trainables.syn1neg.npy with mmap=None\n",
      "2018-04-09 18:55:36,128 : INFO : loading wv recursively from vs52mc2ephs55.wv.* with mmap=None\n",
      "2018-04-09 18:55:36,129 : INFO : loading vectors from vs52mc2ephs55.wv.vectors.npy with mmap=None\n",
      "2018-04-09 18:55:36,203 : INFO : loading docvecs recursively from vs52mc2ephs55.docvecs.* with mmap=None\n",
      "2018-04-09 18:55:36,204 : INFO : loaded vs52mc2ephs55\n"
     ]
    }
   ],
   "source": [
    "model = Doc2Vec.load('vs52mc2ephs55')"
   ]
  },
  {
   "cell_type": "code",
   "execution_count": 21,
   "metadata": {},
   "outputs": [],
   "source": [
    "doc_vectors = []\n",
    "\n",
    "for fname in true_labels_df['dump_id']:\n",
    "    doc_vectors.append(model.docvecs[fname].reshape(-1, 1))"
   ]
  },
  {
   "cell_type": "code",
   "execution_count": 22,
   "metadata": {},
   "outputs": [],
   "source": [
    "kmeans = KMeans(n_clusters=8, random_state=42)\n",
    "pred_labels = kmeans.fit_predict(model.docvecs.vectors_docs)"
   ]
  },
  {
   "cell_type": "code",
   "execution_count": 23,
   "metadata": {},
   "outputs": [
    {
     "data": {
      "text/plain": [
       "0.14492549648101863"
      ]
     },
     "execution_count": 23,
     "metadata": {},
     "output_type": "execute_result"
    }
   ],
   "source": [
    "metrics.fowlkes_mallows_score(true_labels, pred_labels)  "
   ]
  },
  {
   "cell_type": "markdown",
   "metadata": {},
   "source": [
    "model = Doc2Vec(vector_size=50, min_count=2, sample=1e-5, workers=4) -- 0.14086823960956465\n",
    "\n",
    "model = Doc2Vec(vector_size=400, min_count=2, window=6, sample=1e-5, workers=4) -- 0.14888268334614022\n",
    "\n",
    "model = Doc2Vec(vector_size=400, min_count=2, window=6, sample=1e-6, workers=4) -- 0.18628878806361712\n",
    "\n",
    "model = Doc2Vec(vector_size=400, min_count=2, window=3, sample=1e-6, workers=4) -- 0.177933197245823\n",
    "\n",
    "model = Doc2Vec(vector_size=400, min_count=2, window=10, sample=1e-6, workers=4) -- 0.21118463712915594\n",
    "\n",
    "model = Doc2Vec(vector_size=400, min_count=2, window=10, sample=1e-7, workers=4) -- 0.15144894062234954\n",
    "\n",
    "model = Doc2Vec(vector_size=400, dm=0, min_count=2, window=10, sample=1e-6, workers=4) -- 0.1635102868186538\n",
    "\n",
    "model = Doc2Vec(vector_size=400, dbow_words=1, min_count=2, window=10, sample=1e-6, workers=4) -- 0.21547558866834945\n",
    "\n",
    "model = Doc2Vec(vector_size=400, negative=10, dbow_words=1, min_count=1, window=10, sample=1e-6, workers=4) -- 0.13814767369837347"
   ]
  },
  {
   "cell_type": "markdown",
   "metadata": {},
   "source": [
    "### Отрисовка векторов (PCA)"
   ]
  },
  {
   "cell_type": "code",
   "execution_count": 24,
   "metadata": {},
   "outputs": [
    {
     "data": {
      "image/png": "[encoded data removed]",
      "text/plain": [
       "<matplotlib.figure.Figure at 0x7f2fd06c5208>"
      ]
     },
     "metadata": {},
     "output_type": "display_data"
    }
   ],
   "source": [
    "pca = PCA(n_components=2)\n",
    "X = pca.fit_transform(model.docvecs.vectors_docs)\n",
    "\n",
    "plt.figure(figsize=(20, 20))\n",
    "plt.scatter(X[:, 0], X[:, 1], c=true_labels, cmap='jet')\n",
    "\n",
    "for label, x, y in zip(pred_labels, X[:, 0], X[:, 1]):\n",
    "    plt.annotate(label, xy=(x, y))\n",
    "\n",
    "plt.show()"
   ]
  },
  {
   "cell_type": "markdown",
   "metadata": {},
   "source": [
    "### Отрисовка векторов (TSNE)"
   ]
  },
  {
   "cell_type": "code",
   "execution_count": 11,
   "metadata": {},
   "outputs": [
    {
     "data": {
      "image/png": "[encoded data removed]",
      "text/plain": [
       "<matplotlib.figure.Figure at 0x7f2fd06b3978>"
      ]
     },
     "metadata": {},
     "output_type": "display_data"
    }
   ],
   "source": [
    "X = TSNE(n_components=2).fit_transform(model.docvecs.vectors_docs)\n",
    "\n",
    "plt.figure(figsize=(10, 10))\n",
    "plt.scatter(X[:, 0], X[:, 1], c=true_labels, cmap='jet')\n",
    "\n",
    "for label, x, y in zip(pred_labels, X[:, 0], X[:, 1]):\n",
    "    plt.annotate(label, xy=(x, y))\n",
    "\n",
    "plt.show()"
   ]
  },
  {
   "cell_type": "code",
   "execution_count": 18,
   "metadata": {},
   "outputs": [],
   "source": [
    "del model, X, train_corpus, true_labels"
   ]
  },
  {
   "cell_type": "markdown",
   "metadata": {},
   "source": [
    "# Тематическое моделирование"
   ]
  },
  {
   "cell_type": "code",
   "execution_count": 19,
   "metadata": {},
   "outputs": [],
   "source": [
    "train_corpus = [doc for doc in ShelveReader(['temp.db'], mode='asis')]"
   ]
  },
  {
   "cell_type": "code",
   "execution_count": 20,
   "metadata": {
    "scrolled": true
   },
   "outputs": [
    {
     "name": "stderr",
     "output_type": "stream",
     "text": [
      "2018-04-15 17:41:05,913 : INFO : adding document #0 to Dictionary(0 unique tokens: [])\n",
      "2018-04-15 17:41:31,356 : INFO : built Dictionary(1288322 unique tokens: ['0', '00', '000', '01', '0100084726']...) from 162 documents (total 23058171 corpus positions)\n"
     ]
    }
   ],
   "source": [
    "dct = corpora.Dictionary(train_corpus)"
   ]
  },
  {
   "cell_type": "code",
   "execution_count": 21,
   "metadata": {
    "scrolled": true
   },
   "outputs": [],
   "source": [
    "corpus = [dct.doc2bow(line) for line in train_corpus]"
   ]
  },
  {
   "cell_type": "code",
   "execution_count": 22,
   "metadata": {},
   "outputs": [
    {
     "name": "stderr",
     "output_type": "stream",
     "text": [
      "2018-04-15 17:41:47,836 : INFO : collecting document frequencies\n",
      "2018-04-15 17:41:47,837 : INFO : PROGRESS: processing document #0\n",
      "2018-04-15 17:41:49,346 : INFO : calculating IDF weights for 162 documents and 1288321 features (5357529 matrix non-zeros)\n"
     ]
    }
   ],
   "source": [
    "tfidf = TfidfModel(corpus)"
   ]
  },
  {
   "cell_type": "code",
   "execution_count": 23,
   "metadata": {},
   "outputs": [],
   "source": [
    "corpus_tfidf = tfidf[corpus]"
   ]
  },
  {
   "cell_type": "code",
   "execution_count": 24,
   "metadata": {},
   "outputs": [
    {
     "name": "stderr",
     "output_type": "stream",
     "text": [
      "2018-04-15 17:41:52,132 : INFO : using serial LSI version on this node\n",
      "2018-04-15 17:41:52,132 : INFO : updating model with new documents\n",
      "2018-04-15 17:42:14,681 : INFO : preparing a new chunk of documents\n",
      "2018-04-15 17:42:16,207 : INFO : using 100 extra samples and 2 power iterations\n",
      "2018-04-15 17:42:16,208 : INFO : 1st phase: constructing (1288322, 108) action matrix\n",
      "2018-04-15 17:42:17,825 : INFO : orthonormalizing (1288322, 108) action matrix\n",
      "2018-04-15 17:42:59,115 : INFO : 2nd phase: running dense svd on (108, 162) matrix\n",
      "2018-04-15 17:42:59,811 : INFO : computing the final decomposition\n",
      "2018-04-15 17:42:59,812 : INFO : keeping 8 factors (discarding 79.398% of energy spectrum)\n",
      "2018-04-15 17:43:00,175 : INFO : processed documents up to #162\n",
      "2018-04-15 17:43:00,617 : INFO : topic #0(2.824): 0.061*\"биток\" + 0.060*\"фильм\" + 0.055*\"тян\" + 0.052*\"нахуй\" + 0.051*\"блять\" + 0.050*\"нихуя\" + 0.050*\"ебать\" + 0.049*\"пиздец\" + 0.046*\"хуй\" + 0.046*\"кино\"\n",
      "2018-04-15 17:43:00,643 : INFO : topic #1(1.772): -0.216*\"гимы\" + 0.186*\"биток\" + -0.184*\"покемонов\" + -0.174*\"поков\" + -0.165*\"гим\" + -0.146*\"покемона\" + -0.142*\"гимов\" + -0.111*\"снорлакс\" + -0.110*\"люры\" + -0.108*\"блисси\"\n",
      "2018-04-15 17:43:00,674 : INFO : topic #2(1.734): -0.292*\"биток\" + -0.152*\"рипл\" + -0.151*\"гимы\" + -0.130*\"битка\" + -0.125*\"покемонов\" + -0.122*\"поков\" + -0.117*\"btc\" + -0.115*\"гим\" + -0.107*\"эфир\" + -0.103*\"покемона\"\n",
      "2018-04-15 17:43:00,700 : INFO : topic #3(1.726): 0.125*\"биток\" + -0.121*\"js\" + -0.106*\"реакт\" + -0.098*\"npm\" + -0.082*\"import\" + -0.079*\"докер\" + -0.078*\"жс\" + 0.072*\"фильм\" + -0.072*\"юнити\" + -0.067*\"json\"\n",
      "2018-04-15 17:43:00,732 : INFO : topic #4(1.485): 0.157*\"пс4\" + 0.103*\"3дс\" + 0.092*\"ханзо\" + 0.091*\"длц\" + 0.090*\"пс3\" + 0.089*\"биток\" + 0.088*\"ивус\" + 0.087*\"псн\" + 0.085*\"киря\" + 0.082*\"вии\"\n"
     ]
    }
   ],
   "source": [
    "lsi = models.LsiModel(corpus_tfidf, id2word=dct, num_topics=8)"
   ]
  },
  {
   "cell_type": "code",
   "execution_count": 25,
   "metadata": {
    "scrolled": false
   },
   "outputs": [
    {
     "name": "stderr",
     "output_type": "stream",
     "text": [
      "2018-04-15 17:43:01,013 : INFO : topic #0(2.824): 0.061*\"биток\" + 0.060*\"фильм\" + 0.055*\"тян\" + 0.052*\"нахуй\" + 0.051*\"блять\" + 0.050*\"нихуя\" + 0.050*\"ебать\" + 0.049*\"пиздец\" + 0.046*\"хуй\" + 0.046*\"кино\"\n",
      "2018-04-15 17:43:01,039 : INFO : topic #1(1.772): -0.216*\"гимы\" + 0.186*\"биток\" + -0.184*\"покемонов\" + -0.174*\"поков\" + -0.165*\"гим\" + -0.146*\"покемона\" + -0.142*\"гимов\" + -0.111*\"снорлакс\" + -0.110*\"люры\" + -0.108*\"блисси\"\n",
      "2018-04-15 17:43:01,069 : INFO : topic #2(1.734): -0.292*\"биток\" + -0.152*\"рипл\" + -0.151*\"гимы\" + -0.130*\"битка\" + -0.125*\"покемонов\" + -0.122*\"поков\" + -0.117*\"btc\" + -0.115*\"гим\" + -0.107*\"эфир\" + -0.103*\"покемона\"\n",
      "2018-04-15 17:43:01,095 : INFO : topic #3(1.726): 0.125*\"биток\" + -0.121*\"js\" + -0.106*\"реакт\" + -0.098*\"npm\" + -0.082*\"import\" + -0.079*\"докер\" + -0.078*\"жс\" + 0.072*\"фильм\" + -0.072*\"юнити\" + -0.067*\"json\"\n",
      "2018-04-15 17:43:01,130 : INFO : topic #4(1.485): 0.157*\"пс4\" + 0.103*\"3дс\" + 0.092*\"ханзо\" + 0.091*\"длц\" + 0.090*\"пс3\" + 0.089*\"биток\" + 0.088*\"ивус\" + 0.087*\"псн\" + 0.085*\"киря\" + 0.082*\"вии\"\n",
      "2018-04-15 17:43:01,161 : INFO : topic #5(1.458): 0.256*\"фильм\" + 0.178*\"кино\" + 0.139*\"смотрела\" + 0.118*\"фильма\" + 0.102*\"фугу\" + 0.096*\"фильмы\" + 0.093*\"фильмов\" + 0.089*\"трейлер\" + 0.086*\"фильме\" + -0.078*\"пс4\"\n",
      "2018-04-15 17:43:01,196 : INFO : topic #6(1.399): -0.142*\"смм\" + -0.134*\"м1\" + -0.104*\"лидов\" + -0.095*\"пробив\" + -0.091*\"вебразработке\" + -0.091*\"апрув\" + -0.086*\"церебро\" + -0.084*\"подписчиков\" + -0.084*\"ца\" + -0.081*\"smm\"\n",
      "2018-04-15 17:43:01,228 : INFO : topic #7(1.348): -0.228*\"депать\" + -0.213*\"u12390546\" + -0.191*\"u12635633\" + -0.190*\"u13365028\" + -0.184*\"u3979023\" + -0.183*\"деп\" + -0.180*\"u4670414\" + -0.174*\"u5634150\" + -0.166*\"депнул\" + -0.159*\"u12112550\"\n"
     ]
    },
    {
     "data": {
      "text/plain": [
       "[(0,\n",
       "  '0.061*\"биток\" + 0.060*\"фильм\" + 0.055*\"тян\" + 0.052*\"нахуй\" + 0.051*\"блять\" + 0.050*\"нихуя\" + 0.050*\"ебать\" + 0.049*\"пиздец\" + 0.046*\"хуй\" + 0.046*\"кино\"'),\n",
       " (1,\n",
       "  '-0.216*\"гимы\" + 0.186*\"биток\" + -0.184*\"покемонов\" + -0.174*\"поков\" + -0.165*\"гим\" + -0.146*\"покемона\" + -0.142*\"гимов\" + -0.111*\"снорлакс\" + -0.110*\"люры\" + -0.108*\"блисси\"'),\n",
       " (2,\n",
       "  '-0.292*\"биток\" + -0.152*\"рипл\" + -0.151*\"гимы\" + -0.130*\"битка\" + -0.125*\"покемонов\" + -0.122*\"поков\" + -0.117*\"btc\" + -0.115*\"гим\" + -0.107*\"эфир\" + -0.103*\"покемона\"'),\n",
       " (3,\n",
       "  '0.125*\"биток\" + -0.121*\"js\" + -0.106*\"реакт\" + -0.098*\"npm\" + -0.082*\"import\" + -0.079*\"докер\" + -0.078*\"жс\" + 0.072*\"фильм\" + -0.072*\"юнити\" + -0.067*\"json\"'),\n",
       " (4,\n",
       "  '0.157*\"пс4\" + 0.103*\"3дс\" + 0.092*\"ханзо\" + 0.091*\"длц\" + 0.090*\"пс3\" + 0.089*\"биток\" + 0.088*\"ивус\" + 0.087*\"псн\" + 0.085*\"киря\" + 0.082*\"вии\"'),\n",
       " (5,\n",
       "  '0.256*\"фильм\" + 0.178*\"кино\" + 0.139*\"смотрела\" + 0.118*\"фильма\" + 0.102*\"фугу\" + 0.096*\"фильмы\" + 0.093*\"фильмов\" + 0.089*\"трейлер\" + 0.086*\"фильме\" + -0.078*\"пс4\"'),\n",
       " (6,\n",
       "  '-0.142*\"смм\" + -0.134*\"м1\" + -0.104*\"лидов\" + -0.095*\"пробив\" + -0.091*\"вебразработке\" + -0.091*\"апрув\" + -0.086*\"церебро\" + -0.084*\"подписчиков\" + -0.084*\"ца\" + -0.081*\"smm\"'),\n",
       " (7,\n",
       "  '-0.228*\"депать\" + -0.213*\"u12390546\" + -0.191*\"u12635633\" + -0.190*\"u13365028\" + -0.184*\"u3979023\" + -0.183*\"деп\" + -0.180*\"u4670414\" + -0.174*\"u5634150\" + -0.166*\"депнул\" + -0.159*\"u12112550\"')]"
      ]
     },
     "execution_count": 25,
     "metadata": {},
     "output_type": "execute_result"
    }
   ],
   "source": [
    "lsi.print_topics(8)"
   ]
  },
  {
   "cell_type": "code",
   "execution_count": null,
   "metadata": {
    "scrolled": true
   },
   "outputs": [],
   "source": [
    "# test_cluster = [i for i in range(len(labels)) if labels[i] == 2]\n",
    "\n",
    "# # for i in test_cluster:\n",
    "# #     print(f'i:{i} {vld.iloc[i][\"IT\"]}')\n",
    "# for i in range(43):\n",
    "#     print(f'{labels[i]}')\n",
    "# collections.Counter(labels)"
   ]
  }
 ],
 "metadata": {
  "kernelspec": {
   "display_name": "Python 3",
   "language": "python",
   "name": "python3"
  },
  "language_info": {
   "codemirror_mode": {
    "name": "ipython",
    "version": 3
   },
   "file_extension": ".py",
   "mimetype": "text/x-python",
   "name": "python",
   "nbconvert_exporter": "python",
   "pygments_lexer": "ipython3",
   "version": "3.6.4"
  }
 },
 "nbformat": 4,
 "nbformat_minor": 1
}
